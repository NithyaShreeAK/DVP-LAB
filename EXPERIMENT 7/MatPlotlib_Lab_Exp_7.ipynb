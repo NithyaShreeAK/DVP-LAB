{
  "cells": [
    {
      "cell_type": "markdown",
      "id": "a0ab55b7",
      "metadata": {
        "id": "a0ab55b7"
      },
      "source": [
        "# Ex. No. 6: \t\t\tVisualize the text data using word cloud\n",
        "## Objective:\n",
        "To analyze and visualize audience sentiment from a synthetic dataset of movie reviews. By generating word clouds, the goal is to identify the most frequently used words in positive and negative reviews, enabling quick insights into audience opinions.\n",
        "\n",
        "##  Dataset Attributes:   \n",
        "•\tReview (Text): A short written opinion about a movie.   \n",
        "•\tLabel: Sentiment category (1 = Positive, 0 = Negative).     \n",
        "\n",
        "Review (Text)\tLabel\n",
        "\n",
        "The movie was absolutely fantastic with brilliant acting\t1       \n",
        "A dull storyline made the film boring and predictable\t0       \n",
        "Loved the visuals and the music score\t1       \n",
        "The film was a complete waste of time\t0       \n",
        "An excellent performance by the lead actor\t1       \n",
        "Poor script and weak direction ruined the experience\t0       \n",
        "A fun, heartwarming movie for the entire family\t1       \n",
        "Disappointing and far too slow in the middle\t0       \n",
        "Great balance of humor and emotion throughout\t1       \n",
        "The dialogue felt forced and unnatural\t0       \n",
        "A refreshing story with strong character development\t1       \n",
        "The ending was confusing and unsatisfying\t0       \n",
        "Brilliant direction and flawless screenplay\t1       \n",
        "Weak plot twists and badly written characters\t0               \n",
        "The cinematography was stunning and breathtaking\t1       \n",
        "An overhyped movie with little substance\t0       \n",
        "Perfect blend of action, drama, and comedy\t1       \n",
        "The pacing was uneven and dragged in parts\t0       \n",
        "A powerful message delivered beautifully\t1       \n",
        "Forgettable acting and lack of originality\t0           \n",
        "Heartfelt performances made the film inspiring\t1       \n",
        "Too many clichés ruined the experience\t0               \n",
        "An emotional rollercoaster that touched the audience\t1\n",
        "The sound design was poor and distracting\t0       \n",
        "Wonderful direction and meaningful storytelling\t1       \n",
        "The characters were shallow and unbelievable\t0       \n",
        "A must-watch film with excellent production\t1       \n",
        "The editing was sloppy and inconsistent\t0       \n",
        "Brilliantly executed with superb performances\t1       \n",
        "The script lacked depth and creativity\t0       \n",
        "Captivating narrative that kept me engaged\t1       \n",
        "A total disappointment with wasted potential\t0       \n",
        "Inspiring story that motivates the audience\t1\n",
        "Overly long and unnecessarily complicated\t0       \n",
        "A feel-good film with great humor\t1       \n",
        "The acting felt stiff and uninspired\t0       \n",
        "A cinematic masterpiece worth watching again\t1       \n",
        "The background score was irritating and loud\t0       \n",
        "Beautifully crafted movie with a touching theme\t1       \n",
        "Predictable plot that offered no surprises\t0       \n",
        "\n",
        "Tasks:\n",
        "\n",
        "1.\tLoad Data        \n",
        "                o\tImport the synthetic dataset containing movie reviews.  \n",
        "                o\tSeparate reviews into positive and negative categories based on labels.\n",
        "2.\tGenerate Word Clouds    \n",
        "                o\tPreprocess text (convert to lowercase, remove stopwords and punctuation).       \n",
        "                o\tCreate a word cloud for all reviews combined.   \n",
        "                o\tCreate separate word clouds for positive and negative reviews to compare audience sentiment.    \n",
        "3.\tInsights Expected       \n",
        "                o\tFrequently used positive words (e.g., fantastic, brilliant, inspiring, masterpiece).    \n",
        "                o\tFrequently used negative words (e.g., boring, dull, waste, disappointing).              \n",
        "                o\tA visual understanding of how audiences describe movies in favorable vs. unfavorable reviews.   \n"
      ]
    },
    {
      "cell_type": "code",
      "execution_count": null,
      "id": "6f19b63a",
      "metadata": {
        "id": "6f19b63a"
      },
      "outputs": [],
      "source": []
    }
  ],
  "metadata": {
    "kernelspec": {
      "display_name": "Python 3",
      "language": "python",
      "name": "python3"
    },
    "language_info": {
      "codemirror_mode": {
        "name": "ipython",
        "version": 3
      },
      "file_extension": ".py",
      "mimetype": "text/x-python",
      "name": "python",
      "nbconvert_exporter": "python",
      "pygments_lexer": "ipython3",
      "version": "3.8.8"
    },
    "colab": {
      "provenance": []
    }
  },
  "nbformat": 4,
  "nbformat_minor": 5
}