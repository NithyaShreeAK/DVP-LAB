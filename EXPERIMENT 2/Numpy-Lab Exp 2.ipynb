{
 "cells": [
  {
   "cell_type": "markdown",
   "id": "a0ab55b7",
   "metadata": {},
   "source": [
    "# Ex No 2.a Analyzing Academic Performance\n",
    "Problem Statement:\n",
    "Assess the performance trends of students across different subjects, focusing on data imperfections such as missing values, duplicates, and the need to uniquely identify records.\n",
    "\n",
    "Objective Scenario:\n",
    "A high school intends to analyze semester results to enhance teaching strategies and provide targeted support. The dataset includes student roll numbers but contains issues like missing entries and duplicates that must be addressed for accurate analysis.\n",
    "\n",
    "Dataset:\n",
    "Data is provided as a Python list containing tuples for each student's roll number followed by their scores in Mathematics, Science, and English. The list includes missing entries (represented as None) and intentionally duplicated records. Example: [(101, 45, 78, None), (102, 65, 56, 77), (103, 95, 85, 92), (102, 65, 56, 77), (104, 45, None, 88), (101, 45, 78, None)].\n",
    "\n",
    "Tasks to be performed:\n",
    "\n",
    "Data Conversion and Inspection:\n",
    "\n",
    "Convert the list of student records into a Numpy array.\n",
    "Identify and count the number of missing values in each subject.\n",
    "Detect duplicate entries based on student roll numbers.\n",
    "\n",
    "Data Cleaning:\n",
    "Handle missing values by replacing them with the median score of the respective subject.\n",
    "Remove duplicate records, ensuring data integrity by retaining only the first occurrence of each student's record.\n",
    "\n",
    "Data Normalization:\n",
    "Apply min-max normalization to the scores (excluding roll numbers) to scale them between 0 and 1. This adjustment facilitates fair comparisons across different subjects.\n",
    "\n",
    "Statistical Analysis:\n",
    "Calculate the normalized mean, median, and standard deviation of scores for each subject.\n",
    "Identify the subject with the highest variability in scores."
   ]
  },
  {
   "cell_type": "code",
   "execution_count": null,
   "id": "6f19b63a",
   "metadata": {},
   "outputs": [],
   "source": []
  },
  {
   "cell_type": "markdown",
   "id": "62e96f76",
   "metadata": {},
   "source": [
    "# Ex No 2.b Analyzing Healthcare Service Efficiency\n",
    "Problem Statement:\n",
    "Evaluate the performance trends of different hospital departments, addressing issues such as missing data, duplicates, and the need for unique identifiers.\n",
    "\n",
    "Objective Scenario:\n",
    "A hospital's administration wants to analyze patient treatment outcomes to enhance service delivery and provide targeted improvements in care. The dataset includes department ID numbers but contains issues like missing entries and duplicates that need accurate resolution for effective analysis.\n",
    "\n",
    "Dataset:\n",
    "Data is provided as a Python list containing tuples for each department's ID followed by their performance scores in patient satisfaction, treatment success rate, and wait times. The list includes missing entries (represented as None) and intentionally duplicated records. Example: [(701, 90, 95, None), (702, 88, 90, 85), (703, 92, None, 80), (702, 88, 90, 85), (704, 85, None, 78), (701, 90, 95, None)].\n",
    "\n",
    "Tasks to be performed:\n",
    "\n",
    "Data Conversion and Inspection:\n",
    "\n",
    "Convert the list of department records into a Numpy array.\n",
    "Identify and count the number of missing values in each performance metric.\n",
    "Detect duplicate entries based on department ID numbers.\n",
    "\n",
    "Data Cleaning:\n",
    "\n",
    "Handle missing values by replacing them with the median score of the respective metric.\n",
    "Remove duplicate records, ensuring data integrity by retaining only the first occurrence of each department's record.\n",
    "\n",
    "Data Normalization:\n",
    "\n",
    "Apply min-max normalization to the scores (excluding ID numbers) to scale them between 0 and 1. This adjustment facilitates fair comparisons across different metrics.\n",
    "\n",
    "Statistical Analysis:\n",
    "\n",
    "Calculate the normalized mean, median, and standard deviation of scores for each performance metric.\n",
    "Identify the metric with the highest variability in scores."
   ]
  }
 ],
 "metadata": {
  "kernelspec": {
   "display_name": "Python 3",
   "language": "python",
   "name": "python3"
  },
  "language_info": {
   "codemirror_mode": {
    "name": "ipython",
    "version": 3
   },
   "file_extension": ".py",
   "mimetype": "text/x-python",
   "name": "python",
   "nbconvert_exporter": "python",
   "pygments_lexer": "ipython3",
   "version": "3.8.8"
  }
 },
 "nbformat": 4,
 "nbformat_minor": 5
}
