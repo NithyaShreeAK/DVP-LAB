{
  "cells": [
    {
      "cell_type": "markdown",
      "id": "a0ab55b7",
      "metadata": {
        "id": "a0ab55b7"
      },
      "source": [
        "## 1) Sales Performance Visualization Using Store Names\n",
        "### Objective:\n",
        "Visualize and analyze monthly sales trends using cleaned data from various retail store branches, identifying missing data and correlation across months using:\n",
        "        •\tArea Chart  \n",
        "        •\tHeatmap\n",
        "        •\tCorrelogram\n",
        "\n",
        "Dataset Attributes:\n",
        "\n",
        "Store\tJan\tFeb\tMar\tApr\n",
        "\n",
        "Store_A\t15000\t18000\tNaN\t17000   \n",
        "Store_B\t12000\t12500\t13000\tNaN     \n",
        "Store_C\t14000\t13800\t14200\t14500      \n",
        "Store_D\t13500\tNaN\t13700\t13900           \n",
        "Store_E\tNaN\t11000\t12000\t11800     \n",
        "Store_B\t12000\t12500\t13000\tNaN      \n",
        "Store_A\t15000\t18000\tNaN\t17000     \n",
        "Store_C\tNaN\t13800\t14200\t14500     \n",
        "Store_D\t13500\t13400\t13700\tNaN     \n",
        "Store_E\t11500\tNaN\t12000\t11800     \n",
        "\n"
      ]
    },
    {
      "cell_type": "code",
      "execution_count": null,
      "id": "6f19b63a",
      "metadata": {
        "id": "6f19b63a"
      },
      "outputs": [],
      "source": []
    }
  ],
  "metadata": {
    "kernelspec": {
      "display_name": "Python 3",
      "language": "python",
      "name": "python3"
    },
    "language_info": {
      "codemirror_mode": {
        "name": "ipython",
        "version": 3
      },
      "file_extension": ".py",
      "mimetype": "text/x-python",
      "name": "python",
      "nbconvert_exporter": "python",
      "pygments_lexer": "ipython3",
      "version": "3.8.8"
    },
    "colab": {
      "provenance": []
    }
  },
  "nbformat": 4,
  "nbformat_minor": 5
}