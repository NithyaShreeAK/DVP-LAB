{
  "cells": [
    {
      "cell_type": "markdown",
      "id": "a0ab55b7",
      "metadata": {
        "id": "a0ab55b7"
      },
      "source": [
        "# 3.a. Comprehensive Student Performance Analysis Using Pandas\n",
        "#### Problem Statement:\n",
        "\n",
        "Perform a thorough analysis of student performance across multiple subjects while handling data issues such as missing marks, duplicate entries, and inconsistent formatting. Use various Pandas functionalities to clean, organize, and derive insights from the data.\n",
        "\n",
        "#### Objective Scenario:\n",
        "\n",
        "A college stores internal assessment scores of students in an Excel/CSV file for three subjects: Math, Physics, and Chemistry. However, the dataset contains:\n",
        "\n",
        "•\tMissing marks due to absent students,\n",
        "•\tDuplicate entries for some students,\n",
        "•\tInconsistent string formatting in names,\n",
        "•\tNo unique ID assigned to students.\n",
        "\n",
        "The academic head wants to:\n",
        "\n",
        "1.\tClean and prepare the data.\n",
        "2.\tAnalyze individual and subject-wise performance.\n",
        "3.\tIdentify high-performing students and subjects with the most variability.\n",
        "\n",
        "#### Dataset:\n",
        "\n",
        "The data is stored in a CSV file named student_scores.csv, and contains the following columns:\n",
        "\n",
        "Example data:\n",
        "\n",
        "Name,Math,Physics,Chemistry\n",
        "\n",
        "Alice,78,85,\n",
        "\n",
        "Bob,82,,88\n",
        "\n",
        "Charlie,75,79,91\n",
        "\n",
        "Alice,78,85,\n",
        "\n",
        "David,,92,87\n",
        "\n",
        "Eve,85,84,88\n",
        "\n",
        "Bob,82,,88\n",
        "\n",
        "#### Tasks to be Performed:\n",
        "\n",
        "🔹 Data Loading and Inspection\n",
        "\n",
        "•\tLoad the dataset using Pandas from the CSV file.\n",
        "•\tDisplay basic information about the dataset using .info() and .describe().\n",
        "•\tCount the number of missing entries in each subject column.\n",
        "•\tDetect and display duplicate rows based on student names.\n",
        "\n",
        "🔹 Data Cleaning\n",
        "\n",
        "•\tRemove duplicate entries while keeping only the first occurrence of each student.\n",
        "•\tReplace missing subject scores with the median of that subject using .fillna().\n",
        "•\tAssign a new unique identifier column StudentID starting from 1.\n",
        "\n",
        "🔹 Data Transformation and Normalization\n",
        "\n",
        "•\tAdd a new column TotalMarks which sums the marks of all three subjects for each student.\n",
        "•\tCreate another column AverageMarks as total marks divided by the number of subjects.\n",
        "•\tApply min-max normalization on all three subject scores to scale them between 0 and 1, and store them in new columns: Math_Norm, Physics_Norm, Chemistry_Norm.\n",
        "\n",
        "🔹 Statistical and Performance Analysis\n",
        "\n",
        "•\tCalculate the mean, median, and standard deviation for each subject using normalized scores.\n",
        "•\tIdentify the subject with the highest standard deviation (i.e., the most variable scores).\n",
        "•\tIdentify the top 3 students based on their average marks.\n",
        "•\tDisplay subject-wise average performance using a pivot table.\n",
        "\n"
      ]
    },
    {
      "cell_type": "code",
      "execution_count": 1,
      "id": "6f19b63a",
      "metadata": {
        "id": "6f19b63a"
      },
      "outputs": [],
      "source": [
        "import pandas as pd\n",
        "import numpy as np\n",
        "from sklearn.preprocessing import MinMaxScaler\n",
        "\n",
        "data = {'Name': ['Alice', 'Bob', 'Charlie', 'Alice', 'David', 'Eve', 'Bob'],\n",
        "        'Math': [78, 82, 75, 78, np.nan, 85, 82],\n",
        "        'Physics': [85, np.nan, 79, 85, 92, 84, np.nan],\n",
        "        'Chemistry': [np.nan, 88, 91, np.nan, 87, 88, 88]}\n",
        "pd.DataFrame(data).to_csv('student_scores.csv', index=False)"
      ]
    },
    {
      "cell_type": "code",
      "source": [
        "df = pd.read_csv('student_scores.csv')\n",
        "print(\"Dataset Info:\"); print(df.info())\n",
        "print(\"\\nStatistics:\"); print(df.describe())\n",
        "print(f\"\\nMissing values:\\n{df.isnull().sum()}\")\n",
        "print(f\"\\nDuplicates: {df.duplicated().sum()}\")"
      ],
      "metadata": {
        "colab": {
          "base_uri": "https://localhost:8080/"
        },
        "id": "hBkW-gI8Q-HV",
        "outputId": "cf1e48c3-770c-4d67-b3c0-3309d7f37598"
      },
      "id": "hBkW-gI8Q-HV",
      "execution_count": 2,
      "outputs": [
        {
          "output_type": "stream",
          "name": "stdout",
          "text": [
            "Dataset Info:\n",
            "<class 'pandas.core.frame.DataFrame'>\n",
            "RangeIndex: 7 entries, 0 to 6\n",
            "Data columns (total 4 columns):\n",
            " #   Column     Non-Null Count  Dtype  \n",
            "---  ------     --------------  -----  \n",
            " 0   Name       7 non-null      object \n",
            " 1   Math       6 non-null      float64\n",
            " 2   Physics    5 non-null      float64\n",
            " 3   Chemistry  5 non-null      float64\n",
            "dtypes: float64(3), object(1)\n",
            "memory usage: 356.0+ bytes\n",
            "None\n",
            "\n",
            "Statistics:\n",
            "           Math    Physics  Chemistry\n",
            "count   6.00000   5.000000   5.000000\n",
            "mean   80.00000  85.000000  88.400000\n",
            "std     3.63318   4.636809   1.516575\n",
            "min    75.00000  79.000000  87.000000\n",
            "25%    78.00000  84.000000  88.000000\n",
            "50%    80.00000  85.000000  88.000000\n",
            "75%    82.00000  85.000000  88.000000\n",
            "max    85.00000  92.000000  91.000000\n",
            "\n",
            "Missing values:\n",
            "Name         0\n",
            "Math         1\n",
            "Physics      2\n",
            "Chemistry    2\n",
            "dtype: int64\n",
            "\n",
            "Duplicates: 2\n"
          ]
        }
      ]
    },
    {
      "cell_type": "code",
      "source": [
        "df = df.drop_duplicates(subset=['Name'], keep='first').reset_index(drop=True)\n",
        "df = df.fillna(df.median(numeric_only=True))\n",
        "df['StudentID'] = range(1, len(df) + 1)\n",
        "print(f\"\\nCleaned data:\\n{df}\")"
      ],
      "metadata": {
        "colab": {
          "base_uri": "https://localhost:8080/"
        },
        "id": "o-5GvyJCQ93p",
        "outputId": "106ee46c-e016-4309-c14b-d0a35e8bbd03"
      },
      "id": "o-5GvyJCQ93p",
      "execution_count": 3,
      "outputs": [
        {
          "output_type": "stream",
          "name": "stdout",
          "text": [
            "\n",
            "Cleaned data:\n",
            "      Name  Math  Physics  Chemistry  StudentID\n",
            "0    Alice  78.0     85.0       88.0          1\n",
            "1      Bob  82.0     84.5       88.0          2\n",
            "2  Charlie  75.0     79.0       91.0          3\n",
            "3    David  80.0     92.0       87.0          4\n",
            "4      Eve  85.0     84.0       88.0          5\n"
          ]
        }
      ]
    },
    {
      "cell_type": "code",
      "source": [
        "df['TotalMarks'] = df[['Math', 'Physics', 'Chemistry']].sum(axis=1)\n",
        "df['AverageMarks'] = df['TotalMarks'] / 3\n",
        "\n",
        "scaler = MinMaxScaler()\n",
        "for subject in ['Math', 'Physics', 'Chemistry']:\n",
        "    df[f'{subject}_Norm'] = scaler.fit_transform(df[[subject]])"
      ],
      "metadata": {
        "id": "y0B31tyWQ90q"
      },
      "id": "y0B31tyWQ90q",
      "execution_count": 4,
      "outputs": []
    },
    {
      "cell_type": "code",
      "source": [
        "norm_cols = ['Math_Norm', 'Physics_Norm', 'Chemistry_Norm']\n",
        "stats = df[norm_cols].agg(['mean', 'median', 'std'])\n",
        "print(f\"\\nNormalized Stats:\\n{stats.round(4)}\")\n",
        "\n",
        "max_var_subject = stats.loc['std'].idxmax()\n",
        "print(f\"\\nHighest variability: {max_var_subject} (std: {stats.loc['std', max_var_subject]:.4f})\")\n",
        "\n",
        "top_students = df.nlargest(3, 'AverageMarks')[['Name', 'AverageMarks']]\n",
        "print(f\"\\nTop 3 Students:\\n{top_students}\")\n",
        "\n",
        "subject_avg = df[['Math', 'Physics', 'Chemistry']].mean()\n",
        "print(f\"\\nSubject Averages:\\n{subject_avg.round(2)}\")\n",
        "\n",
        "df.to_csv('student_scores_cleaned.csv', index=False)\n",
        "print(\"\\nAnalysis complete! Cleaned data saved.\")"
      ],
      "metadata": {
        "colab": {
          "base_uri": "https://localhost:8080/"
        },
        "id": "FFf0ez_-RNbk",
        "outputId": "80cdee20-3f40-4cfb-cd18-3c5d8333b02a"
      },
      "id": "FFf0ez_-RNbk",
      "execution_count": 5,
      "outputs": [
        {
          "output_type": "stream",
          "name": "stdout",
          "text": [
            "\n",
            "Normalized Stats:\n",
            "        Math_Norm  Physics_Norm  Chemistry_Norm\n",
            "mean       0.5000        0.4538          0.3500\n",
            "median     0.5000        0.4231          0.2500\n",
            "std        0.3808        0.3571          0.3791\n",
            "\n",
            "Highest variability: Math_Norm (std: 0.3808)\n",
            "\n",
            "Top 3 Students:\n",
            "    Name  AverageMarks\n",
            "3  David     86.333333\n",
            "4    Eve     85.666667\n",
            "1    Bob     84.833333\n",
            "\n",
            "Subject Averages:\n",
            "Math         80.0\n",
            "Physics      84.9\n",
            "Chemistry    88.4\n",
            "dtype: float64\n",
            "\n",
            "Analysis complete! Cleaned data saved.\n"
          ]
        }
      ]
    },
    {
      "cell_type": "markdown",
      "id": "62e96f76",
      "metadata": {
        "id": "62e96f76"
      },
      "source": [
        "# Exercise 3.b: Movie Ratings Aggregation and Review Analysis\n",
        "#### Problem Statement:\n",
        "Analyze movie ratings and review text data to find average ratings, detect duplicates, and extract insights using string operations.\n",
        "\n",
        "#### Objective Scenario:\n",
        "A streaming platform wants to analyze user reviews. The dataset contains user IDs, movie titles, ratings, and review comments. Some reviews are duplicated and some comments contain extra whitespace or punctuation noise.\n",
        "\n",
        "#### Dataset:\n",
        "\n",
        "Stored in movie_reviews.csv with the columns:\n",
        "\n",
        "Sample Data:\n",
        "\n",
        "UserID,MovieTitle,Rating,ReviewText\n",
        "\n",
        "U001,Inception,4.5,\"Amazing movie!\"\n",
        "\n",
        "U002,Inception,4.0,\"  brilliant  \"\n",
        "\n",
        "U001,Inception,4.5,\"Amazing movie!\"\n",
        "\n",
        "U003,Interstellar,5.0,\"Mind-blowing!\"\n",
        "\n",
        "U004,Interstellar,, \"Outstanding visuals.\"\n",
        "\n",
        "U005,Inception,4.2,\"Good plot but confusing\"\n",
        "\n",
        "#### Tasks to be Performed:\n",
        "\n",
        "🔹 Cleaning and Preprocessing\n",
        "\n",
        "•\tRemove duplicate reviews based on UserID and MovieTitle.\n",
        "•\tHandle missing ratings by filling with average rating per movie.\n",
        "•\tStrip and lowercase all review text using vectorized string operations.\n",
        "\n",
        "🔹 Aggregation\n",
        "\n",
        "•\tGroup by MovieTitle and calculate mean, median, and count of ratings.\n",
        "•\tIdentify the top-rated movie.\n",
        "\n",
        "🔹 Text Analysis\n",
        "\n",
        "•\tCount how many times the word “amazing” appears in all reviews.\n",
        "•\tFilter reviews where rating is above 4.0 and review contains the word “plot”.\n"
      ]
    },
    {
      "cell_type": "code",
      "source": [
        "import pandas as pd\n",
        "import numpy as np\n",
        "\n",
        "data = {'UserID': ['U001', 'U002', 'U001', 'U003', 'U004', 'U005'],\n",
        "        'MovieTitle': ['Inception', 'Inception', 'Inception', 'Interstellar', 'Interstellar', 'Inception'],\n",
        "        'Rating': [4.5, 4.0, 4.5, 5.0, np.nan, 4.2],\n",
        "        'ReviewText': ['\"Amazing movie!\"', '\" brilliant \"', '\"Amazing movie!\"', '\"Mind-blowing!\"', '\"Outstanding visuals.\"', '\"Good plot but confusing\"']}\n",
        "pd.DataFrame(data).to_csv('movie_reviews.csv', index=False)"
      ],
      "metadata": {
        "id": "tbTg_4UDRjCH"
      },
      "id": "tbTg_4UDRjCH",
      "execution_count": 6,
      "outputs": []
    },
    {
      "cell_type": "code",
      "source": [
        "df = pd.read_csv('movie_reviews.csv')\n",
        "print(\"Original data:\"); print(df)"
      ],
      "metadata": {
        "colab": {
          "base_uri": "https://localhost:8080/"
        },
        "id": "tljTfjjQRi1A",
        "outputId": "c9815bab-410a-4653-8e17-4e5c9bd08f83"
      },
      "id": "tljTfjjQRi1A",
      "execution_count": 7,
      "outputs": [
        {
          "output_type": "stream",
          "name": "stdout",
          "text": [
            "Original data:\n",
            "  UserID    MovieTitle  Rating                 ReviewText\n",
            "0   U001     Inception     4.5           \"Amazing movie!\"\n",
            "1   U002     Inception     4.0              \" brilliant \"\n",
            "2   U001     Inception     4.5           \"Amazing movie!\"\n",
            "3   U003  Interstellar     5.0            \"Mind-blowing!\"\n",
            "4   U004  Interstellar     NaN     \"Outstanding visuals.\"\n",
            "5   U005     Inception     4.2  \"Good plot but confusing\"\n"
          ]
        }
      ]
    },
    {
      "cell_type": "code",
      "source": [
        "df = df.drop_duplicates(subset=['UserID', 'MovieTitle']).reset_index(drop=True)\n",
        "\n",
        "df['Rating'] = df.groupby('MovieTitle')['Rating'].transform(lambda x: x.fillna(x.mean()))\n",
        "\n",
        "df['ReviewText'] = df['ReviewText'].str.strip().str.lower().str.replace('\"', '', regex=False)\n",
        "print(f\"\\nCleaned data:\\n{df}\")"
      ],
      "metadata": {
        "colab": {
          "base_uri": "https://localhost:8080/"
        },
        "id": "Ekm0lr1HRipD",
        "outputId": "5aa453df-373f-419d-b380-ae3eb6342b20"
      },
      "id": "Ekm0lr1HRipD",
      "execution_count": 8,
      "outputs": [
        {
          "output_type": "stream",
          "name": "stdout",
          "text": [
            "\n",
            "Cleaned data:\n",
            "  UserID    MovieTitle  Rating               ReviewText\n",
            "0   U001     Inception     4.5           amazing movie!\n",
            "1   U002     Inception     4.0               brilliant \n",
            "2   U003  Interstellar     5.0            mind-blowing!\n",
            "3   U004  Interstellar     5.0     outstanding visuals.\n",
            "4   U005     Inception     4.2  good plot but confusing\n"
          ]
        }
      ]
    },
    {
      "cell_type": "code",
      "source": [
        "movie_stats = df.groupby('MovieTitle')['Rating'].agg(['mean', 'median', 'count']).round(2)\n",
        "print(f\"\\nMovie Statistics:\\n{movie_stats}\")\n",
        "\n",
        "top_movie = movie_stats['mean'].idxmax()\n",
        "print(f\"\\nTop-rated movie: {top_movie} (avg: {movie_stats.loc[top_movie, 'mean']})\")"
      ],
      "metadata": {
        "colab": {
          "base_uri": "https://localhost:8080/"
        },
        "id": "Jbb_-CfLRicW",
        "outputId": "a9c28f5e-e368-4b12-ba49-79264ee564a0"
      },
      "id": "Jbb_-CfLRicW",
      "execution_count": 9,
      "outputs": [
        {
          "output_type": "stream",
          "name": "stdout",
          "text": [
            "\n",
            "Movie Statistics:\n",
            "              mean  median  count\n",
            "MovieTitle                       \n",
            "Inception     4.23     4.2      3\n",
            "Interstellar  5.00     5.0      2\n",
            "\n",
            "Top-rated movie: Interstellar (avg: 5.0)\n"
          ]
        }
      ]
    },
    {
      "cell_type": "code",
      "source": [
        "amazing_count = df['ReviewText'].str.count('amazing').sum()\n",
        "print(f\"\\n'Amazing' appears {amazing_count} times\")\n",
        "\n",
        "high_rated_plot = df[(df['Rating'] > 4.0) & (df['ReviewText'].str.contains('plot', na=False))]\n",
        "print(f\"\\nHigh-rated reviews with 'plot':\\n{high_rated_plot[['MovieTitle', 'Rating', 'ReviewText']]}\")"
      ],
      "metadata": {
        "colab": {
          "base_uri": "https://localhost:8080/"
        },
        "id": "-kG3dBm1RiPd",
        "outputId": "219cda03-4319-4260-f1a7-4e131c8802cd"
      },
      "id": "-kG3dBm1RiPd",
      "execution_count": 12,
      "outputs": [
        {
          "output_type": "stream",
          "name": "stdout",
          "text": [
            "\n",
            "'Amazing' appears 1 times\n",
            "\n",
            "High-rated reviews with 'plot':\n",
            "  MovieTitle  Rating               ReviewText\n",
            "4  Inception     4.2  good plot but confusing\n"
          ]
        }
      ]
    }
  ],
  "metadata": {
    "kernelspec": {
      "display_name": "Python 3",
      "language": "python",
      "name": "python3"
    },
    "language_info": {
      "codemirror_mode": {
        "name": "ipython",
        "version": 3
      },
      "file_extension": ".py",
      "mimetype": "text/x-python",
      "name": "python",
      "nbconvert_exporter": "python",
      "pygments_lexer": "ipython3",
      "version": "3.8.8"
    },
    "colab": {
      "provenance": []
    }
  },
  "nbformat": 4,
  "nbformat_minor": 5
}