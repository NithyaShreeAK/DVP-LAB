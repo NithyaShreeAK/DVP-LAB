{
  "cells": [
    {
      "cell_type": "markdown",
      "id": "a0ab55b7",
      "metadata": {
        "id": "a0ab55b7"
      },
      "source": [
        "## 1. Visualizing Employee Productivity\n",
        "### Problem Statement:\n",
        "A company wants to visually explore employee productivity across departments using multiple chart types. The dataset contains quarterly productivity scores for employees from various departments, with some missing values and duplicate entries. The goal is to clean the dataset, handle missing data, and use a variety of visualizations (line chart, bar chart, box plot, and scatter plot) to better understand productivity trends and department comparisons.\n",
        "### Objective Scenario:\n",
        "•\tLoad and clean the data by removing duplicates and imputing missing values.     \n",
        "•\tVisualize the cleaned data using:     \n",
        "  \n",
        "                1.\tLine Chart to observe productivity trends across quarters.      \n",
        "                2.\tBar Chart to compare average productivity between departments.  \n",
        "                3.\tBox Plot to analyze the distribution of scores per quarter.     \n",
        "                4.\tScatter Plot to explore the relationship between two quarters' productivity scores.     \n",
        "Dataset:    \n",
        "Emp_ID\tDepartment\tQ1\t    Q2\t    Q3\t    Q4  \n",
        "201\t    IT\t        80\t    85\t    None\t90  \n",
        "202\t    HR\t        70\t    None\t75\t    80  \n",
        "203\t    IT\t        90\t    95\t    92\t    94  \n",
        "204\t    Sales\t    None\t65\t    70\t    75  \n",
        "205\t    HR\t        78\t    82\t    79\t    85  \n",
        "206\t    IT\t        88\t    84\t    90\t    86  \n",
        "202\t    HR\t        70\t    None\t75\t    80  \n",
        "207\t    Sales\t    65\t    70\t    None\t68  \n",
        "208\t    Sales\t    72\t    75\t    78\t    None    \n",
        "209\t    IT\t        91\t    87\t    89\t    93  \n"
      ]
    },
    {
      "cell_type": "code",
      "execution_count": null,
      "id": "6f19b63a",
      "metadata": {
        "id": "6f19b63a"
      },
      "outputs": [],
      "source": []
    }
  ],
  "metadata": {
    "kernelspec": {
      "display_name": "Python 3",
      "language": "python",
      "name": "python3"
    },
    "language_info": {
      "codemirror_mode": {
        "name": "ipython",
        "version": 3
      },
      "file_extension": ".py",
      "mimetype": "text/x-python",
      "name": "python",
      "nbconvert_exporter": "python",
      "pygments_lexer": "ipython3",
      "version": "3.8.8"
    },
    "colab": {
      "provenance": []
    }
  },
  "nbformat": 4,
  "nbformat_minor": 5
}